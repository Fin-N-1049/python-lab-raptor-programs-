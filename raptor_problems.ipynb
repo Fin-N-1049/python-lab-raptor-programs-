{
  "nbformat": 4,
  "nbformat_minor": 0,
  "metadata": {
    "colab": {
      "provenance": [],
      "authorship_tag": "ABX9TyO6LjCXN0IPjNiGo+ozACig",
      "include_colab_link": true
    },
    "kernelspec": {
      "name": "python3",
      "display_name": "Python 3"
    },
    "language_info": {
      "name": "python"
    }
  },
  "cells": [
    {
      "cell_type": "markdown",
      "metadata": {
        "id": "view-in-github",
        "colab_type": "text"
      },
      "source": [
        "<a href=\"https://colab.research.google.com/github/Fin-N-1049/python-lab-raptor-programs-/blob/main/raptor_problems.ipynb\" target=\"_parent\"><img src=\"https://colab.research.google.com/assets/colab-badge.svg\" alt=\"Open In Colab\"/></a>"
      ]
    },
    {
      "cell_type": "code",
      "execution_count": null,
      "metadata": {
        "id": "gH1XEYGBQ8P9"
      },
      "outputs": [],
      "source": [
        "#converting seconds into hours,minutes and seconds(1)\n",
        "s=int(input(\"enter time in seconds\"))\n",
        "hours=int(s/3600)\n",
        "rh=s%3600\n",
        "minutes=int(rh/60)\n",
        "rm=int(rh%60)\n",
        "print(\"hours=\",hours)\n",
        "print(\"minutes=\",minutes)\n",
        "print(\"seconds=\",rm)"
      ]
    },
    {
      "cell_type": "code",
      "source": [
        "#arithmetic operations(2)\n",
        "f=int(input(\"enter the first number\"))\n",
        "g=int(input(\"enter the second number\"))\n",
        "sum=f+g\n",
        "difference=f-g\n",
        "product=f*g\n",
        "quotient=f/g\n",
        "print(\"sum is\",sum)\n",
        "print(\"difference is\",difference)\n",
        "print(\"product is\",product)\n",
        "print(\"quotient is \",quotient)"
      ],
      "metadata": {
        "id": "N1fFNzm8eLz3"
      },
      "execution_count": null,
      "outputs": []
    },
    {
      "cell_type": "code",
      "source": [
        "#converting days to years ,months and days(3)\n",
        "d=int(input(\"enter the no of days\"))\n",
        "years=int(d/360)\n",
        "ry=d%360\n",
        "month=int(ry/30)\n",
        "days=int(ry%30)\n",
        "print(\"years are\",years)\n",
        "print(\"months are\",month)\n",
        "print(\"days are\",days)\n",
        "\n",
        "\n"
      ],
      "metadata": {
        "id": "tp85xGPOV5Rh"
      },
      "execution_count": null,
      "outputs": []
    },
    {
      "cell_type": "code",
      "execution_count": null,
      "metadata": {
        "id": "Q2gWgsdftlLC"
      },
      "outputs": [],
      "source": [
        "#greatest among 3 numbers(4)\n",
        "a=int(input(\"enter the first number\"))\n",
        "b=int(input(\"enter the second number\"))\n",
        "c=int (input(\"enter the third number\"))\n",
        "if a<b<c or b<a<c:\n",
        "  print(c,\"is the greatest\")\n",
        "elif a<c<b or c<a<b:\n",
        "  print(b,\"is the greatest\")\n",
        "else :\n",
        "  print(a,\"is the greatest\")"
      ]
    },
    {
      "cell_type": "code",
      "source": [
        "#whether a number is 2 digit or not(5)\n",
        "a=int(input(\"enter the no. to be checked\"))\n",
        "if 10<=a<=99:\n",
        "  print(a,\"is a 2 digit number\")\n",
        "else:\n",
        "  print(a,\"is not a two digit number\")"
      ],
      "metadata": {
        "id": "BQIxLfLOYqSP"
      },
      "execution_count": null,
      "outputs": []
    },
    {
      "cell_type": "code",
      "source": [
        "#whether a number is the multiple of another(6)\n",
        "a=int(input(\"enter the first number\"))\n",
        "b=int(input(\"enter the second number\"))\n",
        "if a%b==0:\n",
        "  print(\"a is the multiple of b\")\n",
        "else:    \n",
        "  print(\"a is not the multiple of b\")\n",
        "if b%a==0:\n",
        "  print(\"b is the multiple of a\")\n",
        "else:\n",
        "  print(\"b is not the multiple of a\")\n"
      ],
      "metadata": {
        "id": "BEF5OQtXa9Lh"
      },
      "execution_count": null,
      "outputs": []
    },
    {
      "cell_type": "code",
      "source": [
        "#find the smallest digit in a two digit number(7)\n",
        "a=int(input(\"enter the number\"))\n",
        "q=int(a/10)\n",
        "r=int(a%10)\n",
        "if q<r:\n",
        "  print(q,\"is the smallest\")\n",
        "elif q==r:\n",
        "  print(\"both numbers are equal\")\n",
        "else:\n",
        "  print(r,\"is the smallest\")\n",
        "\n"
      ],
      "metadata": {
        "id": "xdtPEPjrJWhC"
      },
      "execution_count": null,
      "outputs": []
    },
    {
      "cell_type": "code",
      "source": [
        "#distance between two points in a number line(8)\n",
        "a=int(input(\"enter the first number\"))\n",
        "b=int(input(\"enter the second number\"))\n",
        "if a<b:\n",
        "  print(b-a,\"is the distance btw the two points\")\n",
        "else:\n",
        "  print(a-b,\"is the distance btw the two points\")\n"
      ],
      "metadata": {
        "id": "8mduvG0sc79E"
      },
      "execution_count": null,
      "outputs": []
    },
    {
      "cell_type": "code",
      "source": [
        "#find the nature of quadratic equation(9)\n",
        "a=int(input(\"enter the first number\"))\n",
        "b=int(input(\"enter the second number\"))\n",
        "c=int(input(\"enter the third number\"))\n",
        "d=(b*b)-4*a*c\n",
        "if d>0:\n",
        "  print(\"the quadratic equation has 2 real solutions\")\n",
        "elif d==0:\n",
        "  print(\"the quadratic equation has 1 real solution\")\n",
        "else :\n",
        "  print(\"the quadratic equation has 2 imaginary solution\")"
      ],
      "metadata": {
        "id": "xxB5vGPtiVr5"
      },
      "execution_count": null,
      "outputs": []
    },
    {
      "cell_type": "code",
      "source": [
        "#arithmetic sequence upto n terms(10)\n",
        "n=int(input(\"enter the n th term\"))\n",
        "a=int(input(\"enter the first term\"))\n",
        "d=int(input(\"enter the common difference\"))\n",
        "print(\"arithmetic sequence upto\",n,\"terms are\")\n",
        "i=0\n",
        "while (i<n):\n",
        "  term=a+(i*d)\n",
        "  print(term)\n",
        "  i=i+1"
      ],
      "metadata": {
        "id": "LBGXRgPEw8XK"
      },
      "execution_count": null,
      "outputs": []
    },
    {
      "cell_type": "code",
      "source": [
        "# check whether a number is armstrong number(11)\n",
        "a=int(input(\"enter the number to be checked\"))\n",
        "i=0\n",
        "q=a\n",
        "while q>0:\n",
        "  q=int(q/10)\n",
        "  i=i+1\n",
        "q=a\n",
        "b=0\n",
        "while q>0: \n",
        "  r=int(q%10)\n",
        "  q=int(q/10)\n",
        "  b=b+r**i\n",
        "if a==b:\n",
        "  print(a,\"is an armstrong number\")\n",
        "else :\n",
        "  print(a,\"is not an armstrong number\")"
      ],
      "metadata": {
        "id": "pg893LWH2zj8"
      },
      "execution_count": null,
      "outputs": []
    },
    {
      "cell_type": "code",
      "source": [
        "#check whether a number is an automorphic number(12)\n",
        "a=int(input(\"enter the number to be checked\"))\n",
        "b=int(a*a)\n",
        "q=b\n",
        "n=0 \n",
        "i=0\n",
        "while q>0:\n",
        "  r=(q%10)\n",
        "  q=int(q/10)\n",
        "  n=n+r*(10**i)\n",
        "  if n==a:\n",
        "    print(a,\"is an automorphic number\")\n",
        "    break\n",
        "  else:\n",
        "    i=i+1\n",
        "if q==0:\n",
        "  print(a,\"is not an automorphic number\")\n",
        "  "
      ],
      "metadata": {
        "id": "Yq4_lE3a_opS"
      },
      "execution_count": null,
      "outputs": []
    },
    {
      "cell_type": "code",
      "source": [
        "#binary to decimal(13)\n",
        "a=int(input(\"enter a binary number\"))\n",
        "q=a\n",
        "i=0\n",
        "n=0\n",
        "while q>0:\n",
        "  r=int(q%10)\n",
        "  q=int(q/10)\n",
        "  n=n+r*(2**i)\n",
        "  i=i+1\n",
        "print(\"decimal equalent to \",a,\"is\",n)\n",
        "  \n",
        "  \n"
      ],
      "metadata": {
        "id": "c8G8-32HAqai"
      },
      "execution_count": null,
      "outputs": []
    },
    {
      "cell_type": "code",
      "source": [
        "#factorial to a given number(14)\n",
        "def fact (x):\n",
        "  i=1\n",
        "  n=1\n",
        "  while i<x+1:\n",
        "    n=n*i\n",
        "    i=i+1\n",
        "  return(n)\n",
        "a=int(input(\"enter the n th term\"))\n",
        "fact(a)\n",
        "print(\"factorial of\",a, \"is\",fact(a))\n",
        "\n"
      ],
      "metadata": {
        "id": "2k7RkAIGNMtO"
      },
      "execution_count": null,
      "outputs": []
    },
    {
      "cell_type": "code",
      "source": [
        "#fibonacci series(15)\n",
        "a=int(input(\"enter the number of terms\"))\n",
        "if a==1:\n",
        "  print(\"0\")\n",
        "elif a==2:\n",
        "  print(\"0 1\")\n",
        "else:\n",
        "  i=0\n",
        "  num1=0\n",
        "  num2=1\n",
        "  print(\"0 1\",end=\" \")\n",
        "  while i<(a-2):\n",
        "    sum=num2+num1\n",
        "    print(sum,end=\" \")\n",
        "    num1=num2\n",
        "    num2=sum\n",
        "    i=i+1\n",
        "\n",
        "\n",
        "  "
      ],
      "metadata": {
        "id": "uKlwmu7ASP9-"
      },
      "execution_count": null,
      "outputs": []
    },
    {
      "cell_type": "code",
      "source": [
        "#find n odd numbers(16)\n",
        "n=int(input(\"enter the last number\"))\n",
        "print(\"the numbers are\")\n",
        "i=1\n",
        "while i<=n:\n",
        "  print(i)\n",
        "  i=i+2\n",
        "  \n"
      ],
      "metadata": {
        "id": "CbM8nylYWG19"
      },
      "execution_count": null,
      "outputs": []
    },
    {
      "cell_type": "code",
      "source": [],
      "metadata": {
        "id": "jkF1UK35Xkg9"
      },
      "execution_count": null,
      "outputs": []
    },
    {
      "cell_type": "code",
      "source": [
        "# check whether a number is a paliandrome(17)\n",
        "a=int(input(\"enter the number to be checked \"))\n",
        "q=a\n",
        "b=0\n",
        "while q>0:\n",
        "  r=q%10\n",
        "  q=int(q/10)\n",
        "  b=b*10+r\n",
        "if a==b:\n",
        "  print(a,\"is an paliandrome number\")\n",
        "else :\n",
        "  print(a,\"is not an paliandrome number\")"
      ],
      "metadata": {
        "id": "Ny6XRVlrXt2i"
      },
      "execution_count": null,
      "outputs": []
    },
    {
      "cell_type": "code",
      "source": [],
      "metadata": {
        "id": "tTb_atfOY9ZO"
      },
      "execution_count": null,
      "outputs": []
    },
    {
      "cell_type": "code",
      "source": [
        "# reverse of the given number(18)\n",
        "a=int(input(\"enter the number \"))\n",
        "q=a\n",
        "b=0\n",
        "while q>0:\n",
        "  r=q%10\n",
        "  q=int(q/10)\n",
        "  b=b*10+r\n",
        "print(b,\"is the reverse of\",a)"
      ],
      "metadata": {
        "id": "d84FyNVeZPW0"
      },
      "execution_count": null,
      "outputs": []
    },
    {
      "cell_type": "code",
      "source": [
        "#square of natural numbers between two numbers(19)\n",
        "a=int(input(\"enter the first number\"))\n",
        "b=int(input(\"enter the last number\"))\n",
        "while a<b:\n",
        "  c=a*a\n",
        "  a=a+1\n",
        "  print(c)\n",
        "if a==b:\n",
        "  print(\"there is no number between \",a,\"and\", b)\n",
        "else:\n",
        "  print(\"there is no number between\", a,\"and \",b)"
      ],
      "metadata": {
        "id": "FKdN8NZdZsv9"
      },
      "execution_count": null,
      "outputs": []
    },
    {
      "cell_type": "code",
      "source": [
        "#sum of factors of a number(20)\n",
        "a=int(input(\"enter the number\"))\n",
        "i=1\n",
        "sum=0\n",
        "while i<=a:\n",
        "  if a%i==0:\n",
        "    sum=sum+i\n",
        "    i=i+1\n",
        "  else:\n",
        "    i=i+1\n",
        "print(\"sum is \",sum)"
      ],
      "metadata": {
        "id": "2ZHKyT2sdQVO"
      },
      "execution_count": null,
      "outputs": []
    },
    {
      "cell_type": "code",
      "source": [
        "#sum of first n natural numbers(21)\n",
        "a=int(input(\"enter the n th term\"))\n",
        "i=0\n",
        "sum=0\n",
        "while i<a:\n",
        "  i=i+1\n",
        "  sum=sum+i\n",
        "print(\"sum of \",a,\"natural numbers are\",sum)"
      ],
      "metadata": {
        "id": "NBfGu3bcgr9T"
      },
      "execution_count": null,
      "outputs": []
    },
    {
      "cell_type": "code",
      "source": [
        "#Sum upto Series of 1-4+9-16...(22)\n",
        "a=int(input(\"enter the number of terms\"))\n",
        "i=1\n",
        "sum=1\n",
        "while i<a:\n",
        "  i=i+1\n",
        "  x=i*i\n",
        "  if i%2==0:\n",
        "    sum=sum-x\n",
        "  else:\n",
        "    sum=sum+x\n",
        "print(sum)\n",
        "  \n",
        "\n",
        "  \n",
        "\n",
        "  "
      ],
      "metadata": {
        "id": "EXtogq0MiDM7"
      },
      "execution_count": null,
      "outputs": []
    },
    {
      "cell_type": "code",
      "source": [
        "#x^n(23)\n",
        "b=int(input(\"enter the value of base\"))\n",
        "e=int(input(\"enter the value of exponent\"))\n",
        "i=0\n",
        "x=1`\n",
        "while i<e:\n",
        "  x=x*b\n",
        "  i=i+1\n",
        "print(b,\"^\",e,\"=\",x) "
      ],
      "metadata": {
        "id": "FigNPxnSmzgr"
      },
      "execution_count": null,
      "outputs": []
    },
    {
      "cell_type": "code",
      "source": [
        "#GCD of two numbers(24)\n",
        "a=int(input(\"enter the first number  \"))\n",
        "b=int(input(\"enter the second number \"))\n",
        "i=2\n",
        "x=1\n",
        "while i<b/2:\n",
        "  if a%i==0 and b%i==0:\n",
        "    a=a/i\n",
        "    b=b/i\n",
        "    x=x*i     \n",
        "  else:\n",
        "    i=i+1\n",
        "print(\"GCD of the two numbers is\",x)"
      ],
      "metadata": {
        "id": "0emGPS86oxc6"
      },
      "execution_count": null,
      "outputs": []
    },
    {
      "cell_type": "code",
      "source": [
        "#area and perimeter of triangle(25) \n",
        "import math\n",
        "a=int(input(\"enter the length of first side\"))\n",
        "b=int(input(\"enter the length of second side\"))\n",
        "c=int(input(\"enter the length of third side\"))\n",
        "s=(a+b+c)/2\n",
        "area=math.sqrt(s*(s-a)*(s-b)*(s-c))\n",
        "p=2*s\n",
        "print(p,\"is the perimeter of the triangle\")\n",
        "print(area,\"is the area of the triangle\")\n"
      ],
      "metadata": {
        "id": "DSXYJXhBuQnh"
      },
      "execution_count": null,
      "outputs": []
    },
    {
      "cell_type": "code",
      "source": [
        "#area of circle(26)\n",
        "a=int(input(\"enter the length of radius\"))\n",
        "area=3.14*a*a\n",
        "print(area,\"is the area of the circle\")\n",
        "\n"
      ],
      "metadata": {
        "id": "tV2LoxSfAzI2"
      },
      "execution_count": null,
      "outputs": []
    },
    {
      "cell_type": "code",
      "source": [
        "#average of 3 numbers(27)\n",
        "a=int(input(\"enter the first number\"))\n",
        "b=int(input(\"enter the second number\"))\n",
        "c=int(input(\"enter the third number\"))\n",
        "avg=(a+b+c)/3\n",
        "print(avg,\"is the average of the three numbers\")\n",
        "\n"
      ],
      "metadata": {
        "id": "hIxKJsbUChoQ"
      },
      "execution_count": null,
      "outputs": []
    },
    {
      "cell_type": "code",
      "source": [
        "#sum and average of 3 numbers(28)\n",
        "a=int(input(\"enter the first number\"))\n",
        "b=int(input(\"enter the second number\"))\n",
        "c=int(input(\"enter the third number\"))\n",
        "avg=(a+b+c)/3\n",
        "sum=avg*3\n",
        "print(avg,\"is the average of the three numbers\")\n",
        "print(sum,\"is the sum of the three numbers\")\n",
        "\n"
      ],
      "metadata": {
        "id": "7D-JyxiGDTni"
      },
      "execution_count": null,
      "outputs": []
    },
    {
      "cell_type": "code",
      "source": [
        "#biggest among two numbers(29)\n",
        "a=int(input(\"enter the first number\"))\n",
        "b=int(input(\"enter the second number\"))\n",
        "if a>b:\n",
        "  print(a,\"is greater than\",b)\n",
        "elif a<b:\n",
        "  print(b,\"is greater than\",a)\n",
        "else:\n",
        "  print(\"first and second numbers are equal\")"
      ],
      "metadata": {
        "id": "uiuZPpb8Eagm"
      },
      "execution_count": null,
      "outputs": []
    },
    {
      "cell_type": "code",
      "source": [
        "#check whether a number is positive, negative or zero(31)\n",
        "a=int(input(\"enter the first number\"))\n",
        "if a<0:\n",
        "  print(a,\"is a negative number\")\n",
        "elif a>0:\n",
        "  print(a,\"is a positive number\")\n",
        "else:\n",
        "  print(\"the number is equal to zero \")"
      ],
      "metadata": {
        "id": "rlQ456fSF3qp"
      },
      "execution_count": null,
      "outputs": []
    },
    {
      "cell_type": "code",
      "source": [],
      "metadata": {
        "id": "6xbWYirCyGZl"
      },
      "execution_count": null,
      "outputs": []
    }
  ]
}