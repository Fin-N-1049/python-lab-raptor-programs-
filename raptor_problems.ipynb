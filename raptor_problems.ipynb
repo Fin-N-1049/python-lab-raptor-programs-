{
  "nbformat": 4,
  "nbformat_minor": 0,
  "metadata": {
    "colab": {
      "provenance": [],
      "authorship_tag": "ABX9TyOC+geMNMl5fKuNoyWfiTGa",
      "include_colab_link": true
    },
    "kernelspec": {
      "name": "python3",
      "display_name": "Python 3"
    },
    "language_info": {
      "name": "python"
    }
  },
  "cells": [
    {
      "cell_type": "markdown",
      "metadata": {
        "id": "view-in-github",
        "colab_type": "text"
      },
      "source": [
        "<a href=\"https://colab.research.google.com/github/Fin-N-1049/python-lab-raptor-programs-/blob/main/raptor_problems.ipynb\" target=\"_parent\"><img src=\"https://colab.research.google.com/assets/colab-badge.svg\" alt=\"Open In Colab\"/></a>"
      ]
    },
    {
      "cell_type": "code",
      "execution_count": null,
      "metadata": {
        "colab": {
          "base_uri": "https://localhost:8080/"
        },
        "id": "gH1XEYGBQ8P9",
        "outputId": "2b919a43-fbbe-4ccc-91c2-b8fff5e0a17b"
      },
      "outputs": [
        {
          "output_type": "stream",
          "name": "stdout",
          "text": [
            "enter time in seconds3700\n",
            "hours= 1\n",
            "minutes= 1\n",
            "seconds= 40\n"
          ]
        }
      ],
      "source": [
        "#converting seconds into hours,minutes and seconds(1)\n",
        "s=int(input(\"enter time in seconds\"))\n",
        "hours=int(s/3600)\n",
        "rh=s%3600\n",
        "minutes=int(rh/60)\n",
        "rm=int(rh%60)\n",
        "print(\"hours=\",hours)\n",
        "print(\"minutes=\",minutes)\n",
        "print(\"seconds=\",rm)"
      ]
    },
    {
      "cell_type": "code",
      "source": [],
      "metadata": {
        "id": "KAU6oUnOUVrS"
      },
      "execution_count": null,
      "outputs": []
    },
    {
      "cell_type": "code",
      "source": [
        "#arithmetic operations(2)\n",
        "f=int(input(\"enter the first number\"))\n",
        "g=int(input(\"enter the second number\"))\n",
        "sum=f+g\n",
        "difference=f-g\n",
        "product=f*g\n",
        "quotient=f/g\n",
        "print(\"sum is\",sum)\n",
        "print(\"difference is\",difference)\n",
        "print(\"product is\",product)\n",
        "print(\"quotient is \",quotient)"
      ],
      "metadata": {
        "colab": {
          "base_uri": "https://localhost:8080/"
        },
        "id": "N1fFNzm8eLz3",
        "outputId": "a57c6b49-e061-4edc-9a78-adb3d69f1ab3"
      },
      "execution_count": null,
      "outputs": [
        {
          "output_type": "stream",
          "name": "stdout",
          "text": [
            "enter the first number60\n",
            "enter the second number99\n",
            "sum is 159\n",
            "difference is -39\n",
            "product is 5940\n",
            "quotient is  0.6060606060606061\n"
          ]
        }
      ]
    },
    {
      "cell_type": "code",
      "source": [
        "#converting days to years ,months and days(3)\n",
        "d=int(input(\"enter the no of days\"))\n",
        "years=int(d/360)\n",
        "ry=d%360\n",
        "month=int(ry/30)\n",
        "days=int(ry%30)\n",
        "print(\"years are\",years)\n",
        "print(\"months are\",month)\n",
        "print(\"days are\",days)\n",
        "\n",
        "\n"
      ],
      "metadata": {
        "colab": {
          "base_uri": "https://localhost:8080/"
        },
        "id": "tp85xGPOV5Rh",
        "outputId": "51393cb5-73a8-484c-daeb-4c1ec9e6d1d9"
      },
      "execution_count": null,
      "outputs": [
        {
          "output_type": "stream",
          "name": "stdout",
          "text": [
            "enter the no of days400\n",
            "years are 1\n",
            "months are 1\n",
            "days are 10\n"
          ]
        }
      ]
    },
    {
      "cell_type": "code",
      "execution_count": null,
      "metadata": {
        "id": "Q2gWgsdftlLC",
        "colab": {
          "base_uri": "https://localhost:8080/"
        },
        "outputId": "025d8d5a-6cf5-4e67-aad3-7669a81f406d"
      },
      "outputs": [
        {
          "output_type": "stream",
          "name": "stdout",
          "text": [
            "enter the first number11\n",
            "enter the second number6\n",
            "enter the third number8\n",
            "11 is the greatest\n"
          ]
        }
      ],
      "source": [
        "#greatest among 3 numbers(4)\n",
        "a=int(input(\"enter the first number\"))\n",
        "b=int(input(\"enter the second number\"))\n",
        "c=int (input(\"enter the third number\"))\n",
        "if a<b<c or b<a<c:\n",
        "  print(c,\"is the greatest\")\n",
        "elif a<c<b or c<a<b:\n",
        "  print(b,\"is the greatest\")\n",
        "else :\n",
        "  print(a,\"is the greatest\")"
      ]
    },
    {
      "cell_type": "code",
      "source": [
        "#whether a number is 2 digit or not(5)\n",
        "a=int(input(\"enter the no. to be checked\"))\n",
        "if 10<=a<=99:\n",
        "  print(a,\"is a 2 digit number\")\n",
        "else:\n",
        "  print(a,\"is not a two digit number\")"
      ],
      "metadata": {
        "colab": {
          "base_uri": "https://localhost:8080/"
        },
        "id": "BQIxLfLOYqSP",
        "outputId": "5f5d9970-fb2f-4cfa-987a-922b77d31c71"
      },
      "execution_count": null,
      "outputs": [
        {
          "output_type": "stream",
          "name": "stdout",
          "text": [
            "enter the no. to be checked99\n",
            "99 is a 2 digit number\n"
          ]
        }
      ]
    },
    {
      "cell_type": "code",
      "source": [
        "#whether a number is the multiple of another(6)\n",
        "a=int(input(\"enter the first number\"))\n",
        "b=int(input(\"enter the second number\"))\n",
        "if a%b==0:\n",
        "  print(\"a is the multiple of b\")\n",
        "else:    \n",
        "  print(\"a is not the multiple of b\")\n",
        "if b%a==0:\n",
        "  print(\"b is the multiple of a\")\n",
        "else:\n",
        "  print(\"b is not the multiple of a\")\n"
      ],
      "metadata": {
        "id": "BEF5OQtXa9Lh",
        "colab": {
          "base_uri": "https://localhost:8080/"
        },
        "outputId": "6e93869c-e59a-4d33-8e4b-abe6a2d58fce"
      },
      "execution_count": null,
      "outputs": [
        {
          "output_type": "stream",
          "name": "stdout",
          "text": [
            "enter the first number40\n",
            "enter the second number4\n",
            "a is the multiple of b\n",
            "b is not the multiple of a\n"
          ]
        }
      ]
    },
    {
      "cell_type": "code",
      "source": [
        "#find the smallest digit in a two digit number(7)\n",
        "a=int(input(\"enter the number\"))\n",
        "q=int(a/10)\n",
        "r=int(a%10)\n",
        "if q<r:\n",
        "  print(q,\"is the smallest\")\n",
        "elif q==r:\n",
        "  print(\"both numbers are equal\")\n",
        "else:\n",
        "  print(r,\"is the smallest\")\n",
        "\n"
      ],
      "metadata": {
        "id": "xdtPEPjrJWhC",
        "colab": {
          "base_uri": "https://localhost:8080/"
        },
        "outputId": "ab631db4-4d82-4952-8aca-a2e1fda1eb39"
      },
      "execution_count": null,
      "outputs": [
        {
          "output_type": "stream",
          "name": "stdout",
          "text": [
            "enter the number44\n",
            "both numbers are equal\n"
          ]
        }
      ]
    },
    {
      "cell_type": "code",
      "source": [
        "#distance between two points in a number line\n",
        "a=int(input(\"enter the first number\"))\n",
        "b=int(input(\"enter the second number\"))\n",
        "if a<b:\n",
        "  print(b-a,\"is the distance btw the two points\")\n",
        "else:\n",
        "  print(a-b,\"is the distance btw the two points\")\n"
      ],
      "metadata": {
        "colab": {
          "base_uri": "https://localhost:8080/"
        },
        "id": "8mduvG0sc79E",
        "outputId": "3ef7e837-e475-41dc-c07d-d834c4321b96"
      },
      "execution_count": null,
      "outputs": [
        {
          "output_type": "stream",
          "name": "stdout",
          "text": [
            "enter the first number-5\n",
            "enter the second number90\n",
            "95 is the distance btw the two points\n"
          ]
        }
      ]
    },
    {
      "cell_type": "code",
      "source": [
        "#find the nature of quadratic equation\n",
        "a=int(input(\"enter the first number\"))\n",
        "b=int(input(\"enter the second number\"))\n",
        "c=int(input(\"enter the third number\"))\n",
        "d=(b*b)-4*a*c\n",
        "if d>0:\n",
        "  print(\"the quadratic equation has 2 real solutions\")\n",
        "elif d==0:\n",
        "  print(\"the quadratic equation has 1 real solution\")\n",
        "else :\n",
        "  print(\"the quadratic equation has 2 imaginary solution\")"
      ],
      "metadata": {
        "colab": {
          "base_uri": "https://localhost:8080/"
        },
        "id": "xxB5vGPtiVr5",
        "outputId": "28df0a0f-dbe2-4bde-9801-6c7cc0cb27d1"
      },
      "execution_count": null,
      "outputs": [
        {
          "output_type": "stream",
          "name": "stdout",
          "text": [
            "enter the first number3\n",
            "enter the second number2\n",
            "enter the third number8\n",
            "the quadratic equation has 2 imaginary solution\n"
          ]
        }
      ]
    },
    {
      "cell_type": "code",
      "source": [
        "#arithmetic sequence upto n terms(10)\n",
        "n=int(input(\"enter the n th term\"))\n",
        "a=int(input(\"enter the first term\"))\n",
        "d=int(input(\"enter the common difference\"))\n",
        "print(\"arithmetic sequence upto\",n,\"terms are\")\n",
        "i=0\n",
        "while (i<n):\n",
        "  term=a+(i*d)\n",
        "  print(term)\n",
        "  i=i+1"
      ],
      "metadata": {
        "colab": {
          "base_uri": "https://localhost:8080/"
        },
        "id": "LBGXRgPEw8XK",
        "outputId": "f6a35803-03aa-4286-ddf1-2937b4dea134"
      },
      "execution_count": null,
      "outputs": [
        {
          "output_type": "stream",
          "name": "stdout",
          "text": [
            "enter the n th term10\n",
            "enter the first term2\n",
            "enter the common difference4\n",
            "arithmetic sequence upto 10 terms are\n",
            "2\n",
            "6\n",
            "10\n",
            "14\n",
            "18\n",
            "22\n",
            "26\n",
            "30\n",
            "34\n",
            "38\n"
          ]
        }
      ]
    },
    {
      "cell_type": "code",
      "source": [
        "# check whether a number is armstrong number\n",
        "a=int(input(\"enter the number to be checked\"))\n",
        "i=0\n",
        "q=a\n",
        "while q>0:\n",
        "  q=int(q/10)\n",
        "  i=i+1\n",
        "q=a\n",
        "b=0\n",
        "while q>0: \n",
        "  r=int(q%10)\n",
        "  q=int(q/10)\n",
        "  b=b+r**i\n",
        "if a==b:\n",
        "  print(a,\"is an armstrong number\")\n",
        "else :\n",
        "  print(a,\"is not an armstrong number\")"
      ],
      "metadata": {
        "id": "pg893LWH2zj8",
        "colab": {
          "base_uri": "https://localhost:8080/"
        },
        "outputId": "deae9f55-affc-4606-c2b8-5025562a0395"
      },
      "execution_count": null,
      "outputs": [
        {
          "output_type": "stream",
          "name": "stdout",
          "text": [
            "enter the number to be checked9474\n",
            "9474 is an armstrong number\n"
          ]
        }
      ]
    },
    {
      "cell_type": "code",
      "source": [
        "#check whether a number is an automorphic number\n",
        "a=int(input(\"enter the number to be checked\"))\n",
        "b=int(a*a)\n",
        "q=b\n",
        "n=0 \n",
        "i=0\n",
        "while q>0:\n",
        "  r=(q%10)\n",
        "  q=int(q/10)\n",
        "  n=n+r*(10**i)\n",
        "  if n==a:\n",
        "    print(a,\"is an automorphic number\")\n",
        "    break\n",
        "  else:\n",
        "    i=i+1\n",
        "if q==0:\n",
        "  print(a,\"is not an automorphic number\")\n",
        "  "
      ],
      "metadata": {
        "colab": {
          "base_uri": "https://localhost:8080/"
        },
        "id": "Yq4_lE3a_opS",
        "outputId": "9cb245f2-4e36-47c6-e729-1503f6204a5e"
      },
      "execution_count": null,
      "outputs": [
        {
          "output_type": "stream",
          "name": "stdout",
          "text": [
            "enter the number to be checked890625\n",
            "5\n",
            "25\n",
            "625\n",
            "625\n",
            "90625\n",
            "890625\n",
            "890625 is an automorphic number\n"
          ]
        }
      ]
    },
    {
      "cell_type": "code",
      "source": [
        "a=int(input(\"enter the number\"))\n",
        "b=a\n",
        "i=0\n",
        "t=0\n",
        "j=0\n",
        "sum=0\n",
        "while a>0\n",
        "  r=a%10\n",
        "  t=t+1\n",
        "  a=(a-r)/10\n",
        "  i=i+1\n",
        "sqr=b*b\n",
        "while j<t:\n",
        "  r=sqr%10\n",
        "  sum=sum+r*(10**j)\n",
        "  print(sum)\n",
        "  sqr=(sqr-r)/10\n",
        "  j=j+1\n",
        " # print(sum)       \n",
        "if b==sum:\n",
        "  print(\"auto\")\n",
        "else:\n",
        "  print(\"not\")\n"
      ],
      "metadata": {
        "id": "hLo7--j_K6o0"
      },
      "execution_count": null,
      "outputs": []
    },
    {
      "cell_type": "code",
      "source": [],
      "metadata": {
        "id": "o-SH4xrCAwnF"
      },
      "execution_count": null,
      "outputs": []
    },
    {
      "cell_type": "code",
      "source": [
        "#binary to decimal\n",
        "a=int(input(\"enter a binary number\"))\n",
        "q=a\n",
        "i=0\n",
        "n=0\n",
        "while q>0:\n",
        "  r=int(q%10)\n",
        "  q=int(q/10)\n",
        "  n=n+r*(2**i)\n",
        "  i=i+1\n",
        "print(\"decimal equalent to \",a,\"is\",n)\n",
        "  \n",
        "  \n"
      ],
      "metadata": {
        "colab": {
          "base_uri": "https://localhost:8080/"
        },
        "id": "c8G8-32HAqai",
        "outputId": "9a48559b-3f07-4b0f-f5a7-52965aefbb05"
      },
      "execution_count": null,
      "outputs": [
        {
          "output_type": "stream",
          "name": "stdout",
          "text": [
            "enter a binary number10000\n",
            "decimal equalent to  10000 is 16\n"
          ]
        }
      ]
    },
    {
      "cell_type": "code",
      "source": [
        "#factorial to a given number\n",
        "def fact (x):\n",
        "  i=1\n",
        "  n=1\n",
        "  while i<x+1:\n",
        "    n=n*i\n",
        "    i=i+1\n",
        "  return(n)\n",
        "a=int(input(\"enter the n th term\"))\n",
        "fact(a)\n",
        "print(\"factorial of\",a, \"is\",fact(a))\n",
        "\n"
      ],
      "metadata": {
        "colab": {
          "base_uri": "https://localhost:8080/"
        },
        "id": "2k7RkAIGNMtO",
        "outputId": "71bcf8a3-54b2-4430-bbe3-91ee745b77a6"
      },
      "execution_count": null,
      "outputs": [
        {
          "output_type": "stream",
          "name": "stdout",
          "text": [
            "enter the n th term10\n",
            "factorial of 10 is 3628800\n"
          ]
        }
      ]
    },
    {
      "cell_type": "code",
      "source": [
        "#fibonacci series\n",
        "a=int(input(\"enter the number of terms\"))\n",
        "if a==1:\n",
        "  print(\"0\")\n",
        "elif a==2:\n",
        "  print(\"0 1\")\n",
        "else:\n",
        "  i=0\n",
        "  num1=0\n",
        "  num2=1\n",
        "  print(\"0 1\",end=\" \")\n",
        "  while i<(a-2):\n",
        "    sum=num2+num1\n",
        "    print(sum,end=\" \")\n",
        "    num1=num2\n",
        "    num2=sum\n",
        "    i=i+1\n",
        "\n",
        "\n",
        "  "
      ],
      "metadata": {
        "id": "uKlwmu7ASP9-",
        "colab": {
          "base_uri": "https://localhost:8080/"
        },
        "outputId": "eea2626b-89db-4577-9105-dd2ae2beaec3"
      },
      "execution_count": null,
      "outputs": [
        {
          "output_type": "stream",
          "name": "stdout",
          "text": [
            "#fibonacci series\n",
            "enter the number of terms10\n",
            "0 1 1 2 3 5 8 13 21 34 "
          ]
        }
      ]
    },
    {
      "cell_type": "code",
      "source": [
        "#find n odd numbers\n",
        "n=int(input(\"enter the last number\"))\n",
        "print(\"the numbers are\")\n",
        "i=1\n",
        "while i<=n:\n",
        "  print(i)\n",
        "  i=i+2\n",
        "  \n"
      ],
      "metadata": {
        "colab": {
          "base_uri": "https://localhost:8080/"
        },
        "id": "CbM8nylYWG19",
        "outputId": "c583fd52-39be-4922-8be8-128fba5e68bf"
      },
      "execution_count": null,
      "outputs": [
        {
          "output_type": "stream",
          "name": "stdout",
          "text": [
            "enter the last number23\n",
            "the numbers are\n",
            "1\n",
            "3\n",
            "5\n",
            "7\n",
            "9\n",
            "11\n",
            "13\n",
            "15\n",
            "17\n",
            "19\n",
            "21\n",
            "23\n"
          ]
        }
      ]
    },
    {
      "cell_type": "code",
      "source": [],
      "metadata": {
        "id": "jkF1UK35Xkg9"
      },
      "execution_count": null,
      "outputs": []
    },
    {
      "cell_type": "code",
      "source": [
        "# check whether a number is a paliandrome\n",
        "a=int(input(\"enter the number to be checked \"))\n",
        "q=a\n",
        "b=0\n",
        "while q>0:\n",
        "  r=q%10\n",
        "  q=int(q/10)\n",
        "  b=b*10+r\n",
        "if a==b:\n",
        "  print(a,\"is an paliandrome number\")\n",
        "else :\n",
        "  print(a,\"is not an paliandrome number\")"
      ],
      "metadata": {
        "colab": {
          "base_uri": "https://localhost:8080/"
        },
        "outputId": "cb79dd7d-4a11-4c9f-8580-28ddad9c17bd",
        "id": "Ny6XRVlrXt2i"
      },
      "execution_count": null,
      "outputs": [
        {
          "output_type": "stream",
          "name": "stdout",
          "text": [
            "enter the number to be checked 767\n",
            "767 is an armstrong number\n"
          ]
        }
      ]
    },
    {
      "cell_type": "code",
      "source": [],
      "metadata": {
        "id": "tTb_atfOY9ZO"
      },
      "execution_count": null,
      "outputs": []
    },
    {
      "cell_type": "code",
      "source": [
        "# reverse of the given number\n",
        "a=int(input(\"enter the number \"))\n",
        "q=a\n",
        "b=0\n",
        "while q>0:\n",
        "  r=q%10\n",
        "  q=int(q/10)\n",
        "  b=b*10+r\n",
        "print(b,\"is the reverse of\",a)"
      ],
      "metadata": {
        "colab": {
          "base_uri": "https://localhost:8080/"
        },
        "outputId": "3d57525c-2656-48e0-92a7-9fddebf01314",
        "id": "d84FyNVeZPW0"
      },
      "execution_count": null,
      "outputs": [
        {
          "output_type": "stream",
          "name": "stdout",
          "text": [
            "enter the number 234\n",
            "432 is the reverse of 234\n"
          ]
        }
      ]
    },
    {
      "cell_type": "code",
      "source": [
        "#square of natural numbers between two numbers\n",
        "a=int(input(\"enter the first number\"))\n",
        "b=int(input(\"enter the last number\"))\n",
        "while a<b:\n",
        "  c=a*a\n",
        "  a=a+1\n",
        "  print(c)\n",
        "if a==b:\n",
        "  print(\"there is no number between \",a,\"and\", b)\n",
        "else:\n",
        "  print(\"there is no number between\", a,\"and \",b)"
      ],
      "metadata": {
        "colab": {
          "base_uri": "https://localhost:8080/"
        },
        "id": "FKdN8NZdZsv9",
        "outputId": "4195d44a-e3f7-41f2-ab7f-151f0272b4e3"
      },
      "execution_count": null,
      "outputs": [
        {
          "output_type": "stream",
          "name": "stdout",
          "text": [
            "enter the first number2\n",
            "enter the last number10\n",
            "4\n",
            "9\n",
            "16\n",
            "25\n",
            "36\n",
            "49\n",
            "64\n",
            "81\n",
            "there is no number between  10 and 10\n"
          ]
        }
      ]
    },
    {
      "cell_type": "code",
      "source": [
        "#sum of factors of a number\n",
        "a=int(input(\"enter the number\"))\n",
        "i=1\n",
        "sum=0\n",
        "while i<=a:\n",
        "  if a%i==0:\n",
        "    sum=sum+i\n",
        "    i=i+1\n",
        "  else:\n",
        "    i=i+1\n",
        "print(\"sum is \",sum)"
      ],
      "metadata": {
        "colab": {
          "base_uri": "https://localhost:8080/"
        },
        "id": "2ZHKyT2sdQVO",
        "outputId": "c271d12b-2e81-497e-ea93-378823a5b5c2"
      },
      "execution_count": null,
      "outputs": [
        {
          "output_type": "stream",
          "name": "stdout",
          "text": [
            "enter the number24\n",
            "sum is  60\n"
          ]
        }
      ]
    },
    {
      "cell_type": "code",
      "source": [
        "#sum of first n natural numbers\n",
        "a=int(input(\"enter the n th term\"))\n",
        "i=0\n",
        "sum=0\n",
        "while i<a:\n",
        "  i=i+1\n",
        "  sum=sum+i\n",
        "print(\"sum of \",a,\"natural numbers are\",sum)"
      ],
      "metadata": {
        "colab": {
          "base_uri": "https://localhost:8080/"
        },
        "id": "NBfGu3bcgr9T",
        "outputId": "021d759a-cd38-4e78-a9ee-19b4f23b45a7"
      },
      "execution_count": null,
      "outputs": [
        {
          "output_type": "stream",
          "name": "stdout",
          "text": [
            "enter the n th term10\n",
            "sum of  10 natural numbers are 55\n"
          ]
        }
      ]
    },
    {
      "cell_type": "code",
      "source": [
        "#Sum upto Series of 1-4+9-16...\n",
        "a=int(input(\"enter the number of terms\"))\n",
        "i=1\n",
        "sum=1\n",
        "while i<a:\n",
        "  i=i+1\n",
        "  x=i*i\n",
        "  if i%2==0:\n",
        "    sum=sum-x\n",
        "  else:\n",
        "    sum=sum+x\n",
        "print(sum)\n",
        "  \n",
        "\n",
        "  \n",
        "\n",
        "  "
      ],
      "metadata": {
        "colab": {
          "base_uri": "https://localhost:8080/"
        },
        "id": "EXtogq0MiDM7",
        "outputId": "ffcde8d8-a727-4184-b2b0-44a8c0fd19ef"
      },
      "execution_count": 1,
      "outputs": [
        {
          "output_type": "stream",
          "name": "stdout",
          "text": [
            "enter the number of terms2\n",
            "-3\n"
          ]
        }
      ]
    },
    {
      "cell_type": "code",
      "source": [
        "#x^n\n",
        "b=int(input(\"enter the value of base\"))\n",
        "e=int(input(\"enter the value of exponent\"))\n",
        "i=0\n",
        "x=1`\n",
        "while i<e:\n",
        "  x=x*b\n",
        "  i=i+1\n",
        "print(b,\"^\",e,\"=\",x) "
      ],
      "metadata": {
        "colab": {
          "base_uri": "https://localhost:8080/"
        },
        "id": "FigNPxnSmzgr",
        "outputId": "a611668b-6fde-4d4d-d5c4-3fa9e9de2d94"
      },
      "execution_count": null,
      "outputs": [
        {
          "output_type": "stream",
          "name": "stdout",
          "text": [
            "enter the value of base2\n",
            "enter the value of exponent10\n",
            "2 ^ 10 = 1024\n"
          ]
        }
      ]
    },
    {
      "cell_type": "code",
      "source": [
        "#GCD of two numbers\n",
        "a=int(input(\"enter the first number  \"))\n",
        "b=int(input(\"enter the second number \"))\n",
        "i=2\n",
        "x=1\n",
        "while i<b/2:\n",
        "  if a%i==0 and b%i==0:\n",
        "    a=a/i\n",
        "    b=b/i\n",
        "    x=x*i     \n",
        "  else:\n",
        "    i=i+1\n",
        "print(\"GCD of the two numbers is\",x)"
      ],
      "metadata": {
        "colab": {
          "base_uri": "https://localhost:8080/"
        },
        "id": "0emGPS86oxc6",
        "outputId": "fee0d05f-3496-4d57-e5c3-1ab8134d64fc"
      },
      "execution_count": null,
      "outputs": [
        {
          "output_type": "stream",
          "name": "stdout",
          "text": [
            "enter the first number  60\n",
            "enter the second number 36\n",
            "GCD of the two numbers is 12\n"
          ]
        }
      ]
    },
    {
      "cell_type": "code",
      "source": [
        "#area and perimeter of triangle \n",
        "import math\n",
        "a=int(input(\"enter the length of first side\"))\n",
        "b=int(input(\"enter the length of second side\"))\n",
        "c=int(input(\"enter the length of third side\"))\n",
        "s=(a+b+c)/2\n",
        "area=math.sqrt(s*(s-a)*(s-b)*(s-c))\n",
        "p=2*s\n",
        "print(p,\"is the perimeter of the triangle\")\n",
        "print(area,\"is the area of the triangle\")\n"
      ],
      "metadata": {
        "colab": {
          "base_uri": "https://localhost:8080/"
        },
        "id": "DSXYJXhBuQnh",
        "outputId": "30f96d8b-d5c9-44bd-8a0c-9152c8aa86fa"
      },
      "execution_count": null,
      "outputs": [
        {
          "output_type": "stream",
          "name": "stdout",
          "text": [
            "enter the length of first side4\n",
            "enter the length of second side5\n",
            "enter the length of third side6\n",
            "15.0 is the perimeter of the triangle\n",
            "9.921567416492215 is the area of the triangle\n"
          ]
        }
      ]
    },
    {
      "cell_type": "code",
      "source": [
        "#area of circle\n",
        "a=int(input(\"enter the length of radius\"))\n",
        "area=3.14*a*a\n",
        "print(area,\"is the area of the circle\")\n",
        "\n"
      ],
      "metadata": {
        "colab": {
          "base_uri": "https://localhost:8080/"
        },
        "id": "tV2LoxSfAzI2",
        "outputId": "ea5a8178-566c-408e-f20d-e99728c1c3f2"
      },
      "execution_count": null,
      "outputs": [
        {
          "output_type": "stream",
          "name": "stdout",
          "text": [
            "enter the length of radius1\n",
            "3.14 is the area of the circle\n"
          ]
        }
      ]
    },
    {
      "cell_type": "code",
      "source": [
        "#average of 3 numbers\n",
        "a=int(input(\"enter the first number\"))\n",
        "b=int(input(\"enter the second number\"))\n",
        "c=int(input(\"enter the third number\"))\n",
        "avg=(a+b+c)/3\n",
        "print(avg,\"is the average of the three numbers\")\n",
        "\n"
      ],
      "metadata": {
        "id": "hIxKJsbUChoQ"
      },
      "execution_count": null,
      "outputs": []
    },
    {
      "cell_type": "code",
      "source": [
        "#sum and average of 3 numbers\n",
        "a=int(input(\"enter the first number\"))\n",
        "b=int(input(\"enter the second number\"))\n",
        "c=int(input(\"enter the third number\"))\n",
        "avg=(a+b+c)/3\n",
        "sum=avg*3\n",
        "print(avg,\"is the average of the three numbers\")\n",
        "print(sum,\"is the sum of the three numbers\")\n",
        "\n"
      ],
      "metadata": {
        "colab": {
          "base_uri": "https://localhost:8080/"
        },
        "id": "7D-JyxiGDTni",
        "outputId": "b6b19d6b-099d-4946-b13b-37466c7d60f5"
      },
      "execution_count": null,
      "outputs": [
        {
          "output_type": "stream",
          "name": "stdout",
          "text": [
            "enter the first number5\n",
            "enter the second number6\n",
            "enter the third number7\n",
            "6.0 is the average of the three numbers\n",
            "18.0 is the sum of the three numbers\n"
          ]
        }
      ]
    },
    {
      "cell_type": "code",
      "source": [
        "#biggest among two numbers\n",
        "a=int(input(\"enter the first number\"))\n",
        "b=int(input(\"enter the second number\"))\n",
        "if a>b:\n",
        "  print(a,\"is greater than\",b)\n",
        "elif a<b:\n",
        "  print(b,\"is greater than\",a)\n",
        "else:\n",
        "  print(\"first and second numbers are equal\")"
      ],
      "metadata": {
        "colab": {
          "base_uri": "https://localhost:8080/"
        },
        "id": "uiuZPpb8Eagm",
        "outputId": "f32aed5c-5678-4c5c-88e2-4d7f6d513d0b"
      },
      "execution_count": null,
      "outputs": [
        {
          "output_type": "stream",
          "name": "stdout",
          "text": [
            "enter the first number5\n",
            "enter the second number5\n",
            "first and second numbers are equal\n"
          ]
        }
      ]
    },
    {
      "cell_type": "code",
      "source": [
        "#check whether a number is positive, negative or zero\n",
        "a=int(input(\"enter the first number\"))\n",
        "if a<0:\n",
        "  print(a,\"is a negative number\")\n",
        "elif a>0:\n",
        "  print(a,\"is a positive number\")\n",
        "else:\n",
        "  print(\"the number is equal to zero \")"
      ],
      "metadata": {
        "colab": {
          "base_uri": "https://localhost:8080/"
        },
        "id": "rlQ456fSF3qp",
        "outputId": "1f8a0975-ef3e-40f9-f6c5-5ccdac88202d"
      },
      "execution_count": null,
      "outputs": [
        {
          "output_type": "stream",
          "name": "stdout",
          "text": [
            "enter the first number0\n",
            "the number is equal to zero \n"
          ]
        }
      ]
    },
    {
      "cell_type": "code",
      "source": [],
      "metadata": {
        "id": "6xbWYirCyGZl"
      },
      "execution_count": null,
      "outputs": []
    }
  ]
}